{
  "nbformat": 4,
  "nbformat_minor": 0,
  "metadata": {
    "colab": {
      "name": "Data Analysis and Preparation Workbook.ipynb",
      "provenance": [],
      "authorship_tag": "ABX9TyP301Ve7A9aIcqFLuSjGHae",
      "include_colab_link": true
    },
    "kernelspec": {
      "name": "python3",
      "display_name": "Python 3"
    }
  },
  "cells": [
    {
      "cell_type": "markdown",
      "metadata": {
        "id": "view-in-github",
        "colab_type": "text"
      },
      "source": [
        "<a href=\"https://colab.research.google.com/github/Mumo-vicky/IP_Week_3/blob/master/Data_Analysis_and_Preparation_Workbook.ipynb\" target=\"_parent\"><img src=\"https://colab.research.google.com/assets/colab-badge.svg\" alt=\"Open In Colab\"/></a>"
      ]
    },
    {
      "cell_type": "code",
      "metadata": {
        "id": "5Z5bzaizBbkH",
        "colab_type": "code",
        "colab": {}
      },
      "source": [
        "import pandas as pd\n",
        "import numpy as np"
      ],
      "execution_count": 1,
      "outputs": []
    },
    {
      "cell_type": "code",
      "metadata": {
        "id": "6AJJ4IGPCD2A",
        "colab_type": "code",
        "colab": {}
      },
      "source": [
        "cells_df = pd.read_csv(\"cells_geo.csv\" , sep=';' , quotechar='\"' , encoding='utf8')\n",
        "cells_df = cells_df.rename(columns={'SITE_CODE':'SITE_ID','VILLES':'CITY'})\n",
        "cells_df.columns = map(str.lower, cells_df.columns)\n",
        "cells_df = cells_df.drop_duplicates()\n",
        "cells_df"
      ],
      "execution_count": null,
      "outputs": []
    },
    {
      "cell_type": "code",
      "metadata": {
        "id": "xugvX361CIBl",
        "colab_type": "code",
        "colab": {}
      },
      "source": [
        "telcom1_df = pd.read_csv(\"Telcom_dataset.csv\")\n",
        "telcom1_df = telcom1_df.rename(columns={'PRODUTC': 'PRODUCT','VALUE':'VALUE' , 'DATETIME':'DATE_TIME' , 'CELL_ON_SITE':'CELL_ON_SITE' , 'DW_A_NUMBER_INT':'DW_A_NUMBER' , 'DW_B_NUMBER_INT':'DW_B_NUMBER' , 'COUNTRY_A':'COUNTRY_A' , 'COUNTRY_B':'COUNTRY_B' , 'CELL_ID':'CELL_ID' , 'SITE_ID':'SITE_ID'})\n",
        "telcom1_df.columns = map(str.lower, telcom1_df.columns)\n",
        "telcom1_df = telcom1_df.drop_duplicates()\n",
        "telcom1_df"
      ],
      "execution_count": null,
      "outputs": []
    },
    {
      "cell_type": "code",
      "metadata": {
        "id": "Ag9_Sc8hCMiR",
        "colab_type": "code",
        "colab": {}
      },
      "source": [
        "telcom2_df = pd.read_csv(\"Telcom_dataset2.csv\")\n",
        "telcom2_df = telcom2_df.rename(columns={'PRODUCT':'PRODUCT','VALUE':'VALUE' , 'DATE_TIME':'DATE_TIME' , 'CELL_ON_SITE':'CELL_ON_SITE' , 'DW_A_NUMBER':'DW_A_NUMBER' , 'DW_B_NUMBER':'DW_B_NUMBER' , 'COUNTRY_A':'COUNTRY_A' , 'COUNTRY_B':'COUNTRY_B' , 'CELL_ID':'CELL_ID' , 'SITE_ID':'SITE_ID'})\n",
        "telcom2_df.columns = map(str.lower, telcom2_df.columns)\n",
        "telcom2_df = telcom2_df.drop_duplicates()\n",
        "telcom2_df"
      ],
      "execution_count": null,
      "outputs": []
    },
    {
      "cell_type": "code",
      "metadata": {
        "id": "szxFQZkECVUr",
        "colab_type": "code",
        "colab": {}
      },
      "source": [
        "telcom3_df = pd.read_csv(\"Telcom_dataset3.csv\")\n",
        "telcom3_df = telcom3_df.rename(columns={'PRODUCT': 'PRODUCT','VALUE':'VALUE' , 'DATE_TIME':'DATE_TIME' , 'CELL_ON_SITE':'CELL_ON_SITE' , 'DW_A_NUMBER_INT':'DW_A_NUMBER' , 'DW_B_NUMBER_INT':'DW_B_NUMBER' , 'COUNTRY_A':'COUNTRY_A' , 'COUNTRY_B':'COUNTRY_B' , 'CELLID':'CELL_ID' , 'SIET_ID':'SITE_ID'})\n",
        "telcom3_df.columns = map(str.lower, telcom3_df.columns)\n",
        "telcom3_df = telcom3_df.drop_duplicates()\n",
        "telcom3_df"
      ],
      "execution_count": null,
      "outputs": []
    },
    {
      "cell_type": "code",
      "metadata": {
        "id": "WlGhKovPCZQX",
        "colab_type": "code",
        "colab": {}
      },
      "source": [
        "all_telcom_df = pd.concat([telcom1_df, telcom2_df, telcom3_df], axis=0)\n",
        "all_telcom_df = all_telcom_df.reset_index(drop=True)\n",
        "all_telcom_df = all_telcom_df.drop_duplicates()\n",
        "all_telcom_df"
      ],
      "execution_count": null,
      "outputs": []
    },
    {
      "cell_type": "code",
      "metadata": {
        "id": "o-eOBH8ZCduQ",
        "colab_type": "code",
        "colab": {}
      },
      "source": [
        "merge_df = pd.merge(all_telcom_df,cells_df,on=\"site_id\", how='inner',suffixes=('_telcom','_cells'))\n",
        "merge_df"
      ],
      "execution_count": null,
      "outputs": []
    },
    {
      "cell_type": "code",
      "metadata": {
        "id": "IbMyMAqfCgsS",
        "colab_type": "code",
        "colab": {}
      },
      "source": [
        "mergenew = merge_df.loc[merge_df.localisation != \"ABIDJAN\", \"localisation\"] = \"NOT ABIDJAN\"\n",
        "merge_df.localisation"
      ],
      "execution_count": null,
      "outputs": []
    },
    {
      "cell_type": "code",
      "metadata": {
        "id": "OfxZqxQkCkrG",
        "colab_type": "code",
        "colab": {}
      },
      "source": [
        "mergenew = merge_df.loc[merge_df.status != \"In Service\", \"status\"] = \"Not In Service\"\n",
        "merge_df.status"
      ],
      "execution_count": null,
      "outputs": []
    },
    {
      "cell_type": "code",
      "metadata": {
        "id": "5XiN4lmjCofx",
        "colab_type": "code",
        "colab": {}
      },
      "source": [
        "merge_df['city'].value_counts().sort_values(ascending=False)"
      ],
      "execution_count": null,
      "outputs": []
    },
    {
      "cell_type": "code",
      "metadata": {
        "id": "PuVLDuJ7CuCk",
        "colab_type": "code",
        "colab": {}
      },
      "source": [
        "hours_df = merge_df[merge_df[\"\"] < 3]\n",
        "column_count = subset_df.count()\n",
        "\n",
        "print(column_count)"
      ],
      "execution_count": null,
      "outputs": []
    }
  ]
}